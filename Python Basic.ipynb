{
 "cells": [
  {
   "cell_type": "code",
   "execution_count": 2,
   "id": "9cd44f1c",
   "metadata": {},
   "outputs": [
    {
     "data": {
      "text/plain": [
       "['False',\n",
       " 'None',\n",
       " 'True',\n",
       " '__peg_parser__',\n",
       " 'and',\n",
       " 'as',\n",
       " 'assert',\n",
       " 'async',\n",
       " 'await',\n",
       " 'break',\n",
       " 'class',\n",
       " 'continue',\n",
       " 'def',\n",
       " 'del',\n",
       " 'elif',\n",
       " 'else',\n",
       " 'except',\n",
       " 'finally',\n",
       " 'for',\n",
       " 'from',\n",
       " 'global',\n",
       " 'if',\n",
       " 'import',\n",
       " 'in',\n",
       " 'is',\n",
       " 'lambda',\n",
       " 'nonlocal',\n",
       " 'not',\n",
       " 'or',\n",
       " 'pass',\n",
       " 'raise',\n",
       " 'return',\n",
       " 'try',\n",
       " 'while',\n",
       " 'with',\n",
       " 'yield']"
      ]
     },
     "execution_count": 2,
     "metadata": {},
     "output_type": "execute_result"
    }
   ],
   "source": [
    "import keyword\n",
    "keyword.kwlist"
   ]
  },
  {
   "cell_type": "code",
   "execution_count": 3,
   "id": "7afbfc3c",
   "metadata": {},
   "outputs": [
    {
     "data": {
      "text/plain": [
       "True"
      ]
     },
     "execution_count": 3,
     "metadata": {},
     "output_type": "execute_result"
    }
   ],
   "source": [
    "keyword.iskeyword('try')"
   ]
  },
  {
   "cell_type": "code",
   "execution_count": 4,
   "id": "aae93ad4",
   "metadata": {},
   "outputs": [],
   "source": [
    "name = 'puja'\n",
    "my_idenfier = name"
   ]
  },
  {
   "cell_type": "code",
   "execution_count": 5,
   "id": "65b0b394",
   "metadata": {},
   "outputs": [
    {
     "data": {
      "text/plain": [
       "False"
      ]
     },
     "execution_count": 5,
     "metadata": {},
     "output_type": "execute_result"
    }
   ],
   "source": [
    "keyword.iskeyword('puja')"
   ]
  },
  {
   "cell_type": "code",
   "execution_count": 6,
   "id": "75c9cc90",
   "metadata": {},
   "outputs": [
    {
     "data": {
      "text/plain": [
       "'puja'"
      ]
     },
     "execution_count": 6,
     "metadata": {},
     "output_type": "execute_result"
    }
   ],
   "source": [
    "name"
   ]
  },
  {
   "cell_type": "code",
   "execution_count": 7,
   "id": "5348336d",
   "metadata": {},
   "outputs": [
    {
     "ename": "SyntaxError",
     "evalue": "invalid syntax (Temp/ipykernel_8640/2232484739.py, line 1)",
     "output_type": "error",
     "traceback": [
      "\u001b[1;36m  File \u001b[1;32m\"C:\\Users\\ASHOK_~1\\AppData\\Local\\Temp/ipykernel_8640/2232484739.py\"\u001b[1;36m, line \u001b[1;32m1\u001b[0m\n\u001b[1;33m    *(heelo*/)\u001b[0m\n\u001b[1;37m            ^\u001b[0m\n\u001b[1;31mSyntaxError\u001b[0m\u001b[1;31m:\u001b[0m invalid syntax\n"
     ]
    }
   ],
   "source": [
    "/* heelo*/"
   ]
  },
  {
   "cell_type": "code",
   "execution_count": 8,
   "id": "cd488080",
   "metadata": {},
   "outputs": [],
   "source": [
    "#hello"
   ]
  },
  {
   "cell_type": "code",
   "execution_count": 9,
   "id": "bbeeabcc",
   "metadata": {},
   "outputs": [
    {
     "name": "stdout",
     "output_type": "stream",
     "text": [
      "10\n"
     ]
    }
   ],
   "source": [
    "s = 10 \n",
    "print(s)"
   ]
  },
  {
   "cell_type": "code",
   "execution_count": 10,
   "id": "da438a5d",
   "metadata": {},
   "outputs": [
    {
     "name": "stdout",
     "output_type": "stream",
     "text": [
      "10\n",
      "20\n"
     ]
    }
   ],
   "source": [
    "#Global variables\n",
    "a = 10\n",
    "def function():\n",
    "    global a\n",
    "    a += 10\n",
    "    print(a)\n",
    "print(a)\n",
    "function()"
   ]
  },
  {
   "cell_type": "code",
   "execution_count": 12,
   "id": "d38cc299",
   "metadata": {},
   "outputs": [
    {
     "name": "stdout",
     "output_type": "stream",
     "text": [
      "['CSK', 'RCB', 'MI']\n"
     ]
    }
   ],
   "source": [
    "#list\n",
    "\n",
    "my_list = [\"CSK\",\"RCB\",\"MI\"]\n",
    "print(my_list)"
   ]
  },
  {
   "cell_type": "code",
   "execution_count": 13,
   "id": "0c7946da",
   "metadata": {},
   "outputs": [
    {
     "name": "stdout",
     "output_type": "stream",
     "text": [
      "['CSK', 'RCB', 'MI', 'CSK']\n"
     ]
    }
   ],
   "source": [
    "#list-(Duplicate value)\n",
    "\n",
    "my_list = [\"CSK\",\"RCB\",\"MI\",\"CSK\"]\n",
    "print(my_list)"
   ]
  },
  {
   "cell_type": "code",
   "execution_count": 14,
   "id": "43d7c37d",
   "metadata": {},
   "outputs": [
    {
     "data": {
      "text/plain": [
       "4"
      ]
     },
     "execution_count": 14,
     "metadata": {},
     "output_type": "execute_result"
    }
   ],
   "source": [
    "len(my_list)"
   ]
  },
  {
   "cell_type": "code",
   "execution_count": 15,
   "id": "fc4e96b4",
   "metadata": {},
   "outputs": [
    {
     "name": "stdout",
     "output_type": "stream",
     "text": [
      "4\n"
     ]
    }
   ],
   "source": [
    "print(len(my_list))"
   ]
  },
  {
   "cell_type": "code",
   "execution_count": 17,
   "id": "5df86545",
   "metadata": {},
   "outputs": [
    {
     "name": "stdout",
     "output_type": "stream",
     "text": [
      "['Ind', 'AUS', 'Eng'] [1, 2, 3, 4, 5] [True, False]\n"
     ]
    }
   ],
   "source": [
    "list1 = [\"Ind\",\"AUS\",\"Eng\"]\n",
    "list2 = [ 1,2,3,4,5]\n",
    "list3 = [True, False]\n",
    "\n",
    "print(list1,list2,list3)"
   ]
  },
  {
   "cell_type": "code",
   "execution_count": 18,
   "id": "38bf88f2",
   "metadata": {},
   "outputs": [
    {
     "name": "stdout",
     "output_type": "stream",
     "text": [
      "['Ind', 'AUS', 'Eng', 1, 2, 3, 4, 5, 'Male', 'Female']\n"
     ]
    }
   ],
   "source": [
    "list1 = [\"Ind\",\"AUS\",\"Eng\",1,2,3,4,5,\"Male\",\"Female\"]\n",
    "print(list1)"
   ]
  },
  {
   "cell_type": "code",
   "execution_count": 19,
   "id": "4a5cd01b",
   "metadata": {},
   "outputs": [
    {
     "name": "stdout",
     "output_type": "stream",
     "text": [
      "('Ind', 'AUS', 'Eng')\n"
     ]
    }
   ],
   "source": [
    "#Tuble\n",
    "tuple1 = (\"Ind\",\"AUS\",\"Eng\")\n",
    "print(tuple1)"
   ]
  },
  {
   "cell_type": "code",
   "execution_count": 23,
   "id": "9c7c9188",
   "metadata": {},
   "outputs": [
    {
     "name": "stdout",
     "output_type": "stream",
     "text": [
      "('CSK', 'RCB', 'MI', 'CSK')\n"
     ]
    }
   ],
   "source": [
    "my_tuple = (\"CSK\",\"RCB\",\"MI\",\"CSK\")\n",
    "print(my_tuple)"
   ]
  },
  {
   "cell_type": "code",
   "execution_count": 29,
   "id": "39f14525",
   "metadata": {},
   "outputs": [
    {
     "name": "stdout",
     "output_type": "stream",
     "text": [
      "('CSK', 'RCB', 'MI')\n"
     ]
    }
   ],
   "source": [
    "my_tuple = (\"CSK\",\"RCB\",\"MI\")\n",
    "print(my_tuple)"
   ]
  },
  {
   "cell_type": "code",
   "execution_count": 24,
   "id": "ccc0e1d9",
   "metadata": {},
   "outputs": [
    {
     "name": "stdout",
     "output_type": "stream",
     "text": [
      "4\n"
     ]
    }
   ],
   "source": [
    "print(len(my_tuple))"
   ]
  },
  {
   "cell_type": "code",
   "execution_count": 31,
   "id": "883017f6",
   "metadata": {},
   "outputs": [
    {
     "name": "stdout",
     "output_type": "stream",
     "text": [
      "{'Ind', 'Eng', 'AUS'}\n"
     ]
    }
   ],
   "source": [
    "#sets\n",
    "sets1 = {\"Ind\",\"AUS\",\"Eng\",\"AUS\",\"Eng\"}\n",
    "print(sets1)"
   ]
  },
  {
   "cell_type": "code",
   "execution_count": 33,
   "id": "c77bbf54",
   "metadata": {},
   "outputs": [
    {
     "name": "stdout",
     "output_type": "stream",
     "text": [
      "{1, 2, 3, 4, 5, 'Male', 'Female', 'EngInd', 'Ind', 'Eng', 'AUS'}\n"
     ]
    }
   ],
   "source": [
    "sets1 = {\"Ind\",\"AUS\",\"Eng\",\"AUS\",\"Eng\"\"Ind\",\"AUS\",\"Eng\",1,2,3,4,5,\"Male\",\"Female\"}\n",
    "print(sets1)"
   ]
  },
  {
   "cell_type": "code",
   "execution_count": 34,
   "id": "b56a9584",
   "metadata": {},
   "outputs": [
    {
     "name": "stdout",
     "output_type": "stream",
     "text": [
      "11\n"
     ]
    }
   ],
   "source": [
    "print(len(sets1))"
   ]
  },
  {
   "cell_type": "code",
   "execution_count": 35,
   "id": "f5fff0c5",
   "metadata": {},
   "outputs": [
    {
     "data": {
      "text/plain": [
       "'puja'"
      ]
     },
     "execution_count": 35,
     "metadata": {},
     "output_type": "execute_result"
    }
   ],
   "source": [
    "name"
   ]
  },
  {
   "cell_type": "code",
   "execution_count": 1,
   "id": "6f5ee231",
   "metadata": {},
   "outputs": [
    {
     "name": "stdout",
     "output_type": "stream",
     "text": [
      "positional order:\n",
      "to welcome UST\n"
     ]
    }
   ],
   "source": [
    "#string\n",
    "string1 = \"{1} {0} {2}\".format('welcome','to','UST')\n",
    "print('positional order:')\n",
    "print(string1)"
   ]
  },
  {
   "cell_type": "code",
   "execution_count": 2,
   "id": "d3647c14",
   "metadata": {},
   "outputs": [
    {
     "name": "stdout",
     "output_type": "stream",
     "text": [
      "10.0\n"
     ]
    }
   ],
   "source": [
    "A = 10\n",
    "B = float(A)\n",
    "print(B)"
   ]
  },
  {
   "cell_type": "code",
   "execution_count": 3,
   "id": "16de4091",
   "metadata": {},
   "outputs": [
    {
     "name": "stdout",
     "output_type": "stream",
     "text": [
      "10\n"
     ]
    }
   ],
   "source": [
    "A = 10.78\n",
    "B = int(A)\n",
    "print(B)"
   ]
  },
  {
   "cell_type": "code",
   "execution_count": 5,
   "id": "cb997b20",
   "metadata": {},
   "outputs": [
    {
     "name": "stdout",
     "output_type": "stream",
     "text": [
      "[1, 2, 3, 4, 5]\n"
     ]
    }
   ],
   "source": [
    "a = [1,2,3,4,11,5]\n",
    "a.remove(11)\n",
    "print(a)"
   ]
  },
  {
   "cell_type": "code",
   "execution_count": 10,
   "id": "83abef83",
   "metadata": {},
   "outputs": [
    {
     "name": "stdout",
     "output_type": "stream",
     "text": [
      "['a', 'b', 'c']\n"
     ]
    }
   ],
   "source": [
    "list1 = ['a','b','c','b','c','a','c','a']\n",
    "b=list(dict.fromkeys(list1))\n",
    "print(b)"
   ]
  },
  {
   "cell_type": "code",
   "execution_count": 13,
   "id": "a6424680",
   "metadata": {},
   "outputs": [
    {
     "name": "stdout",
     "output_type": "stream",
     "text": [
      "['CSK', 'SRH', 'RR']\n"
     ]
    }
   ],
   "source": [
    "mylist = [\"RCB\",\"MI\",\"CSK\",\"SRH\",\"RR\",\"KKR\"]\n",
    "print(mylist[2:5])"
   ]
  },
  {
   "cell_type": "code",
   "execution_count": 14,
   "id": "195de0d2",
   "metadata": {},
   "outputs": [
    {
     "name": "stdout",
     "output_type": "stream",
     "text": [
      "KKR\n"
     ]
    }
   ],
   "source": [
    "mylist = [\"RCB\",\"MI\",\"CSK\",\"SRH\",\"RR\",\"KKR\"]\n",
    "print(mylist[-1])"
   ]
  },
  {
   "cell_type": "code",
   "execution_count": 15,
   "id": "e7a97658",
   "metadata": {},
   "outputs": [
    {
     "name": "stdout",
     "output_type": "stream",
     "text": [
      "['RCB', 'MI', 'CSK', 'SRH']\n"
     ]
    }
   ],
   "source": [
    "mylist = [\"RCB\",\"MI\",\"CSK\",\"SRH\",\"RR\",\"KKR\"]\n",
    "print(mylist[:4])"
   ]
  },
  {
   "cell_type": "code",
   "execution_count": 16,
   "id": "b73bdbe2",
   "metadata": {},
   "outputs": [
    {
     "name": "stdout",
     "output_type": "stream",
     "text": [
      "['CSK', 'SRH', 'RR', 'KKR']\n"
     ]
    }
   ],
   "source": [
    "mylist = [\"RCB\",\"MI\",\"CSK\",\"SRH\",\"RR\",\"KKR\"]\n",
    "print(mylist[2:])"
   ]
  },
  {
   "cell_type": "code",
   "execution_count": 17,
   "id": "98b4cb0f",
   "metadata": {},
   "outputs": [
    {
     "name": "stdout",
     "output_type": "stream",
     "text": [
      "['CSK', 'SRH', 'RR']\n"
     ]
    }
   ],
   "source": [
    "mylist = [\"RCB\",\"MI\",\"CSK\",\"SRH\",\"RR\",\"KKR\"]\n",
    "print(mylist[-4:-1])"
   ]
  },
  {
   "cell_type": "code",
   "execution_count": 20,
   "id": "deaff563",
   "metadata": {},
   "outputs": [],
   "source": [
    "mylist = [\"RCB\",\"MI\",\"CSK\",\"SRH\",\"RR\",\"KKR\"]\n",
    "if \"IND\" in mylist:\n",
    "    print(\"IND is in  mylist\")"
   ]
  },
  {
   "cell_type": "code",
   "execution_count": 26,
   "id": "cc98b9b0",
   "metadata": {},
   "outputs": [
    {
     "name": "stdout",
     "output_type": "stream",
     "text": [
      "['RCB', 'MI', 'IND', 'SRH', 'RR', 'KKR']\n"
     ]
    }
   ],
   "source": [
    "mylist = [\"RCB\",\"MI\",\"CSK\",\"SRH\",\"RR\",\"KKR\"]\n",
    "mylist[2] = \"IND\"\n",
    "print(mylist)"
   ]
  },
  {
   "cell_type": "code",
   "execution_count": 25,
   "id": "e77ddcc2",
   "metadata": {},
   "outputs": [
    {
     "name": "stdout",
     "output_type": "stream",
     "text": [
      "['RCB', 'IND', 'ENG', 'CSK', 'SRH', 'RR', 'KKR']\n"
     ]
    }
   ],
   "source": [
    "mylist = [\"RCB\",\"MI\",\"CSK\",\"SRH\",\"RR\",\"KKR\"]\n",
    "mylist[1:2] = [\"IND\",\"ENG\"]\n",
    "print(mylist)"
   ]
  },
  {
   "cell_type": "code",
   "execution_count": 27,
   "id": "96c6bb9f",
   "metadata": {},
   "outputs": [
    {
     "name": "stdout",
     "output_type": "stream",
     "text": [
      "['RCB', 'MI', 'CSK', 'SRH', 'RR', 'KKR']\n"
     ]
    }
   ],
   "source": [
    "mylist = [\"RCB\",\"MI\",\"CSK\",\"SRH\",\"RR\",\"KKR\"]\n",
    "print(mylist)"
   ]
  },
  {
   "cell_type": "code",
   "execution_count": 28,
   "id": "ebb53bef",
   "metadata": {},
   "outputs": [
    {
     "name": "stdout",
     "output_type": "stream",
     "text": [
      "['RCB', 'MI', 'IND', 'CSK', 'SRH', 'RR', 'KKR']\n"
     ]
    }
   ],
   "source": [
    "mylist = [\"RCB\",\"MI\",\"CSK\",\"SRH\",\"RR\",\"KKR\"]\n",
    "mylist.insert(2,\"IND\")\n",
    "print(mylist)"
   ]
  },
  {
   "cell_type": "code",
   "execution_count": 31,
   "id": "a40e3158",
   "metadata": {},
   "outputs": [
    {
     "name": "stdout",
     "output_type": "stream",
     "text": [
      "['RCB', 'MI', 'CSK', 'SRH', 'RR', 'KKR', 'IND']\n"
     ]
    }
   ],
   "source": [
    "mylist = [\"RCB\",\"MI\",\"CSK\",\"SRH\",\"RR\",\"KKR\"]\n",
    "mylist.append(\"IND\")\n",
    "print(mylist)"
   ]
  },
  {
   "cell_type": "code",
   "execution_count": 33,
   "id": "3834ab51",
   "metadata": {},
   "outputs": [
    {
     "name": "stdout",
     "output_type": "stream",
     "text": [
      "['Python', 'Java', 'PHP', 'C', 'C++', 'Dotnet']\n"
     ]
    }
   ],
   "source": [
    "mylist1 = [\"Python\",\"Java\",\"PHP\"]\n",
    "mylist2 = [\"C\",\"C++\",\"Dotnet\"]\n",
    "mylist1.extend(mylist2)\n",
    "print(mylist1)"
   ]
  },
  {
   "cell_type": "code",
   "execution_count": 34,
   "id": "2fe37e43",
   "metadata": {},
   "outputs": [
    {
     "name": "stdout",
     "output_type": "stream",
     "text": [
      "['RCB', 'MI', 'CSK', 'RR', 'KKR']\n"
     ]
    }
   ],
   "source": [
    "mylist = [\"RCB\",\"MI\",\"CSK\",\"SRH\",\"RR\",\"KKR\"]\n",
    "mylist.remove(\"SRH\")\n",
    "print(mylist)"
   ]
  },
  {
   "cell_type": "code",
   "execution_count": 35,
   "id": "e1561a69",
   "metadata": {},
   "outputs": [
    {
     "name": "stdout",
     "output_type": "stream",
     "text": [
      "['RCB', 'CSK', 'SRH', 'RR', 'KKR']\n"
     ]
    }
   ],
   "source": [
    "mylist = [\"RCB\",\"MI\",\"CSK\",\"SRH\",\"RR\",\"KKR\"]\n",
    "mylist.pop(1)\n",
    "print(mylist)"
   ]
  },
  {
   "cell_type": "code",
   "execution_count": 36,
   "id": "567d4428",
   "metadata": {},
   "outputs": [
    {
     "name": "stdout",
     "output_type": "stream",
     "text": [
      "['RCB', 'MI', 'CSK', 'SRH', 'RR']\n"
     ]
    }
   ],
   "source": [
    "mylist = [\"RCB\",\"MI\",\"CSK\",\"SRH\",\"RR\",\"KKR\"]\n",
    "mylist.pop()\n",
    "print(mylist)"
   ]
  },
  {
   "cell_type": "code",
   "execution_count": 37,
   "id": "d9a7eb13",
   "metadata": {},
   "outputs": [
    {
     "ename": "NameError",
     "evalue": "name 'mylist' is not defined",
     "output_type": "error",
     "traceback": [
      "\u001b[1;31m---------------------------------------------------------------------------\u001b[0m",
      "\u001b[1;31mNameError\u001b[0m                                 Traceback (most recent call last)",
      "\u001b[1;32mC:\\Users\\ASHOK_~1\\AppData\\Local\\Temp/ipykernel_4704/3992570325.py\u001b[0m in \u001b[0;36m<module>\u001b[1;34m\u001b[0m\n\u001b[0;32m      1\u001b[0m \u001b[0mmylist\u001b[0m \u001b[1;33m=\u001b[0m \u001b[1;33m[\u001b[0m\u001b[1;34m\"RCB\"\u001b[0m\u001b[1;33m,\u001b[0m\u001b[1;34m\"MI\"\u001b[0m\u001b[1;33m,\u001b[0m\u001b[1;34m\"CSK\"\u001b[0m\u001b[1;33m,\u001b[0m\u001b[1;34m\"SRH\"\u001b[0m\u001b[1;33m,\u001b[0m\u001b[1;34m\"RR\"\u001b[0m\u001b[1;33m,\u001b[0m\u001b[1;34m\"KKR\"\u001b[0m\u001b[1;33m]\u001b[0m\u001b[1;33m\u001b[0m\u001b[1;33m\u001b[0m\u001b[0m\n\u001b[0;32m      2\u001b[0m \u001b[1;32mdel\u001b[0m \u001b[0mmylist\u001b[0m\u001b[1;33m\u001b[0m\u001b[1;33m\u001b[0m\u001b[0m\n\u001b[1;32m----> 3\u001b[1;33m \u001b[0mprint\u001b[0m\u001b[1;33m(\u001b[0m\u001b[0mmylist\u001b[0m\u001b[1;33m)\u001b[0m\u001b[1;33m\u001b[0m\u001b[1;33m\u001b[0m\u001b[0m\n\u001b[0m",
      "\u001b[1;31mNameError\u001b[0m: name 'mylist' is not defined"
     ]
    }
   ],
   "source": [
    "mylist = [\"RCB\",\"MI\",\"CSK\",\"SRH\",\"RR\",\"KKR\"]\n",
    "del mylist\n",
    "print(mylist)"
   ]
  },
  {
   "cell_type": "code",
   "execution_count": 38,
   "id": "80f4fbc6",
   "metadata": {},
   "outputs": [
    {
     "name": "stdout",
     "output_type": "stream",
     "text": [
      "['RCB', 'MI', 'CSK', 'SRH', 'RR', 'KKR']\n"
     ]
    }
   ],
   "source": [
    "mylist = [\"RCB\",\"MI\",\"CSK\",\"SRH\",\"RR\",\"KKR\"]\n",
    "print(mylist)"
   ]
  },
  {
   "cell_type": "code",
   "execution_count": 39,
   "id": "a869ded7",
   "metadata": {},
   "outputs": [
    {
     "name": "stdout",
     "output_type": "stream",
     "text": [
      "[]\n"
     ]
    }
   ],
   "source": [
    "mylist = [\"RCB\",\"MI\",\"CSK\",\"SRH\",\"RR\",\"KKR\"]\n",
    "mylist.clear()\n",
    "print(mylist)"
   ]
  },
  {
   "cell_type": "code",
   "execution_count": 40,
   "id": "1e3979ad",
   "metadata": {},
   "outputs": [
    {
     "name": "stdout",
     "output_type": "stream",
     "text": [
      "RCB\n",
      "MI\n",
      "CSK\n",
      "SRH\n",
      "RR\n",
      "KKR\n"
     ]
    }
   ],
   "source": [
    "mylist = [\"RCB\",\"MI\",\"CSK\",\"SRH\",\"RR\",\"KKR\"]\n",
    "for x in mylist:\n",
    "    print(x)"
   ]
  },
  {
   "cell_type": "code",
   "execution_count": 41,
   "id": "776cde9e",
   "metadata": {},
   "outputs": [
    {
     "name": "stdout",
     "output_type": "stream",
     "text": [
      "RCB\n",
      "MI\n",
      "CSK\n",
      "SRH\n",
      "RR\n",
      "KKR\n"
     ]
    }
   ],
   "source": [
    "mylist = [\"RCB\",\"MI\",\"CSK\",\"SRH\",\"RR\",\"KKR\"]\n",
    "for x in range(len(mylist)):\n",
    "    print(mylist[x])"
   ]
  },
  {
   "cell_type": "code",
   "execution_count": 43,
   "id": "9db4f0b8",
   "metadata": {},
   "outputs": [
    {
     "name": "stdout",
     "output_type": "stream",
     "text": [
      "RCB\n",
      "MI\n",
      "CSK\n",
      "SRH\n",
      "RR\n",
      "KKR\n"
     ]
    }
   ],
   "source": [
    "mylist = [\"RCB\",\"MI\",\"CSK\",\"SRH\",\"RR\",\"KKR\"]\n",
    "i = 0\n",
    "while i < len(mylist):\n",
    "    print(mylist[i])\n",
    "    i = i + 1"
   ]
  },
  {
   "cell_type": "code",
   "execution_count": 44,
   "id": "808546fc",
   "metadata": {},
   "outputs": [
    {
     "name": "stdout",
     "output_type": "stream",
     "text": [
      "['CSK', 'KKR', 'MI', 'RCB', 'RR', 'SRH']\n"
     ]
    }
   ],
   "source": [
    "mylist = [\"RCB\",\"MI\",\"CSK\",\"SRH\",\"RR\",\"KKR\"]\n",
    "mylist.sort()\n",
    "print(mylist)"
   ]
  },
  {
   "cell_type": "code",
   "execution_count": 45,
   "id": "c9d88ae9",
   "metadata": {},
   "outputs": [
    {
     "name": "stdout",
     "output_type": "stream",
     "text": [
      "[21, 55, 65, 76, 82, 100]\n"
     ]
    }
   ],
   "source": [
    "numlist = [100, 55, 65, 76, 82, 21]\n",
    "numlist.sort()\n",
    "print(numlist)"
   ]
  },
  {
   "cell_type": "code",
   "execution_count": 46,
   "id": "4d94c773",
   "metadata": {},
   "outputs": [
    {
     "name": "stdout",
     "output_type": "stream",
     "text": [
      "[100, 82, 76, 65, 55, 21]\n"
     ]
    }
   ],
   "source": [
    "numlist = [100, 55, 65, 76, 82, 21]\n",
    "numlist.sort(reverse = True)\n",
    "print(numlist)"
   ]
  },
  {
   "cell_type": "code",
   "execution_count": 47,
   "id": "b3855f13",
   "metadata": {},
   "outputs": [
    {
     "name": "stdout",
     "output_type": "stream",
     "text": [
      "['Delhi', 'Hyderabad', 'Trivandrum', 'bangalore', 'chennai']\n"
     ]
    }
   ],
   "source": [
    "alist = [\"chennai\",\"bangalore\",\"Hyderabad\",\"Trivandrum\",\"Delhi\"]\n",
    "alist.sort()\n",
    "print(alist)"
   ]
  },
  {
   "cell_type": "code",
   "execution_count": 50,
   "id": "38319ffb",
   "metadata": {},
   "outputs": [
    {
     "name": "stdout",
     "output_type": "stream",
     "text": [
      "['bangalore', 'chennai', 'Delhi', 'Hyderabad', 'Trivandrum']\n"
     ]
    }
   ],
   "source": [
    "alist = [\"chennai\",\"bangalore\",\"Hyderabad\",\"Trivandrum\",\"Delhi\"]\n",
    "alist.sort(key = str.lower)\n",
    "print(alist)"
   ]
  },
  {
   "cell_type": "code",
   "execution_count": 52,
   "id": "ccf412c1",
   "metadata": {},
   "outputs": [
    {
     "name": "stdout",
     "output_type": "stream",
     "text": [
      "['Delhi', 'Trivandrum', 'Hyderabad', 'bangalore', 'chennai']\n"
     ]
    }
   ],
   "source": [
    "alist = [\"chennai\",\"bangalore\",\"Hyderabad\",\"Trivandrum\",\"Delhi\"]\n",
    "alist.reverse()\n",
    "print(alist)"
   ]
  },
  {
   "cell_type": "code",
   "execution_count": 54,
   "id": "9b707be2",
   "metadata": {},
   "outputs": [
    {
     "name": "stdout",
     "output_type": "stream",
     "text": [
      "['chennai', 'bangalore', 'Hyderabad', 'Trivandrum', 'Delhi']\n"
     ]
    }
   ],
   "source": [
    "alist = [\"chennai\",\"bangalore\",\"Hyderabad\",\"Trivandrum\",\"Delhi\"]\n",
    "blist = list(alist)\n",
    "print(blist)"
   ]
  },
  {
   "cell_type": "code",
   "execution_count": 55,
   "id": "b89c2c94",
   "metadata": {},
   "outputs": [
    {
     "name": "stdout",
     "output_type": "stream",
     "text": [
      "('sandeep', 'umrah', 'jeffry', 'anil', 'ghousiya')\n"
     ]
    }
   ],
   "source": [
    "mytuple = (\"sandeep\",\"umrah\",\"jeffry\",\"anil\",\"ghousiya\")\n",
    "print(mytuple)"
   ]
  },
  {
   "cell_type": "code",
   "execution_count": 56,
   "id": "43f102e2",
   "metadata": {},
   "outputs": [
    {
     "name": "stdout",
     "output_type": "stream",
     "text": [
      "5\n"
     ]
    }
   ],
   "source": [
    "mytuple = (\"sandeep\",\"umrah\",\"jeffry\",\"anil\",\"ghousiya\")\n",
    "print(len(mytuple))"
   ]
  },
  {
   "cell_type": "code",
   "execution_count": 58,
   "id": "e08d37d9",
   "metadata": {},
   "outputs": [
    {
     "name": "stdout",
     "output_type": "stream",
     "text": [
      "('sandeep', 'umrah', 'jeffry', 'anil', 'ghousiya')\n"
     ]
    }
   ],
   "source": [
    "x = (\"sandeep\",\"umrah\",\"jeffry\",\"anil\",\"ghousiya\")\n",
    "y = list(x)\n",
    "\n",
    "print(x)"
   ]
  },
  {
   "cell_type": "code",
   "execution_count": 59,
   "id": "1dc8ba42",
   "metadata": {},
   "outputs": [
    {
     "name": "stdout",
     "output_type": "stream",
     "text": [
      "['sandeep', 'umrah', 'jeffry', 'anil', 'ghousiya']\n"
     ]
    }
   ],
   "source": [
    "x = (\"sandeep\",\"umrah\",\"jeffry\",\"anil\",\"ghousiya\")\n",
    "y = list(x)\n",
    "\n",
    "print(y)"
   ]
  },
  {
   "cell_type": "code",
   "execution_count": 67,
   "id": "9753ef22",
   "metadata": {},
   "outputs": [
    {
     "name": "stdout",
     "output_type": "stream",
     "text": [
      "('sandeep', 'umrah', 'jeffry', 'anil', 'ghousiya')\n"
     ]
    }
   ],
   "source": [
    "print(y)"
   ]
  },
  {
   "cell_type": "code",
   "execution_count": 64,
   "id": "c8b9e413",
   "metadata": {},
   "outputs": [
    {
     "name": "stdout",
     "output_type": "stream",
     "text": [
      "('sandeep', 'umrah', 'jeffry', 'anil', 'ghousiya')\n"
     ]
    }
   ],
   "source": [
    "z = tuple(y)\n",
    "print(z)"
   ]
  },
  {
   "cell_type": "code",
   "execution_count": 68,
   "id": "47f3bff2",
   "metadata": {},
   "outputs": [
    {
     "name": "stdout",
     "output_type": "stream",
     "text": [
      "{'ghousiya', 'anil', 'jeffry', 'sandeep', 'umrah'}\n"
     ]
    }
   ],
   "source": [
    "mysets = {\"sandeep\",\"umrah\",\"jeffry\",\"anil\",\"ghousiya\"}\n",
    "print(mysets)"
   ]
  },
  {
   "cell_type": "code",
   "execution_count": 70,
   "id": "f2b6070a",
   "metadata": {},
   "outputs": [
    {
     "name": "stdout",
     "output_type": "stream",
     "text": [
      "{'ghousiya', 'anil', 'jeffry', 'sandeep', 'umrah'}\n"
     ]
    }
   ],
   "source": [
    "mysets = (\"sandeep\",\"umrah\",\"umrah\",\"jeffry\",\"anil\",\"ghousiya\")\n",
    "print(mysets)"
   ]
  },
  {
   "cell_type": "code",
   "execution_count": 71,
   "id": "ce604117",
   "metadata": {},
   "outputs": [
    {
     "name": "stdout",
     "output_type": "stream",
     "text": [
      "(1, 'umrah', 'umrah', 'jeffry', 'anil', 'ghousiya')\n"
     ]
    }
   ],
   "source": [
    "mysets = (1,\"umrah\",\"umrah\",\"jeffry\",\"anil\",\"ghousiya\")\n",
    "print(mysets)"
   ]
  },
  {
   "cell_type": "code",
   "execution_count": 76,
   "id": "ad092803",
   "metadata": {},
   "outputs": [
    {
     "name": "stdout",
     "output_type": "stream",
     "text": [
      "{'brand': 'Maruti', 'model': 'Swift', 'year': '1983'}\n"
     ]
    }
   ],
   "source": [
    "#Dictionary\n",
    "mydict = {\n",
    "    \"brand\" : \"Maruti\",\n",
    "    \"model\" : \"Swift\",\n",
    "    \"year\" : \"1983\"\n",
    "}\n",
    "print(mydict)"
   ]
  },
  {
   "cell_type": "code",
   "execution_count": 77,
   "id": "c1f1bc6a",
   "metadata": {},
   "outputs": [
    {
     "name": "stdout",
     "output_type": "stream",
     "text": [
      "Maruti\n"
     ]
    }
   ],
   "source": [
    "print(mydict[\"brand\"])"
   ]
  },
  {
   "cell_type": "code",
   "execution_count": 81,
   "id": "3e326f82",
   "metadata": {},
   "outputs": [
    {
     "name": "stdout",
     "output_type": "stream",
     "text": [
      "{'brand': 'Maruti', 'model': 'Swift', 'year': '1985'}\n"
     ]
    }
   ],
   "source": [
    "mydict = {\n",
    "    \"brand\" : \"Maruti\",\n",
    "    \"model\" : \"Swift\",\n",
    "    \"year\" : \"1983\",\n",
    "    \"year\" : \"1985\"\n",
    "}\n",
    "print(mydict)"
   ]
  },
  {
   "cell_type": "code",
   "execution_count": 82,
   "id": "292be4d5",
   "metadata": {},
   "outputs": [
    {
     "name": "stdout",
     "output_type": "stream",
     "text": [
      "dict_keys(['brand', 'model', 'year'])\n"
     ]
    }
   ],
   "source": [
    "print(mydict.keys())"
   ]
  },
  {
   "cell_type": "code",
   "execution_count": 83,
   "id": "b3f21c1a",
   "metadata": {},
   "outputs": [
    {
     "name": "stdout",
     "output_type": "stream",
     "text": [
      "dict_values(['Maruti', 'Swift', '1985'])\n"
     ]
    }
   ],
   "source": [
    "print(mydict.values())"
   ]
  },
  {
   "cell_type": "code",
   "execution_count": 86,
   "id": "8d31e4d5",
   "metadata": {},
   "outputs": [
    {
     "name": "stdout",
     "output_type": "stream",
     "text": [
      "{'brand': 'Maruti', 'model': 'celerio', 'year': '1985'}\n"
     ]
    }
   ],
   "source": [
    "mydict = {\n",
    "    \"brand\" : \"Maruti\",\n",
    "    \"model\" : \"Swift\",\n",
    "    \"year\" : \"1983\",\n",
    "    \"year\" : \"1985\"\n",
    "}\n",
    "mydict[\"model\"]=\"celerio\"\n",
    "print(mydict)"
   ]
  },
  {
   "cell_type": "code",
   "execution_count": 156,
   "id": "06f127d3",
   "metadata": {},
   "outputs": [
    {
     "name": "stdout",
     "output_type": "stream",
     "text": [
      "{'brand': 'Ford', 'model': 'Mustang', 'year': 2020}\n"
     ]
    }
   ],
   "source": [
    "thisdict = {\n",
    "  \"brand\": \"Ford\",\n",
    "  \"model\": \"Mustang\",\n",
    "  \"year\": 1964,\n",
    "  \"year\": 2020\n",
    "}\n",
    "print(thisdict)"
   ]
  },
  {
   "cell_type": "code",
   "execution_count": 88,
   "id": "8bcf70f3",
   "metadata": {},
   "outputs": [
    {
     "name": "stdout",
     "output_type": "stream",
     "text": [
      "10\n"
     ]
    }
   ],
   "source": [
    "num =10.00\n",
    "num1 = int(num)\n",
    "print(num1)"
   ]
  },
  {
   "cell_type": "code",
   "execution_count": 89,
   "id": "9c3c88c2",
   "metadata": {},
   "outputs": [
    {
     "name": "stdout",
     "output_type": "stream",
     "text": [
      "hgfdsdfghj\n",
      "mjhgfdsdfghjk\n",
      "kjhgfdsdfghnjmk\n",
      "\n"
     ]
    }
   ],
   "source": [
    "a = \"\"\"hgfdsdfghj\n",
    "mjhgfdsdfghjk\n",
    "kjhgfdsdfghnjmk\n",
    "\"\"\"\n",
    "print(a)"
   ]
  },
  {
   "cell_type": "code",
   "execution_count": 96,
   "id": "9f30397c",
   "metadata": {},
   "outputs": [
    {
     "name": "stdout",
     "output_type": "stream",
     "text": [
      ",world\n"
     ]
    }
   ],
   "source": [
    "str = \"hello,world\"\n",
    "#print(str[2:5])\n",
    "#print(str[:5])\n",
    "print(str[5:])"
   ]
  },
  {
   "cell_type": "code",
   "execution_count": 97,
   "id": "cb349b5c",
   "metadata": {},
   "outputs": [
    {
     "name": "stdout",
     "output_type": "stream",
     "text": [
      "HELLO,WORLD\n"
     ]
    }
   ],
   "source": [
    "str = \"hello,world\"\n",
    "print(str.upper())"
   ]
  },
  {
   "cell_type": "code",
   "execution_count": 98,
   "id": "ae397314",
   "metadata": {},
   "outputs": [
    {
     "name": "stdout",
     "output_type": "stream",
     "text": [
      "hello,world\n"
     ]
    }
   ],
   "source": [
    "str = \"hello,world\"\n",
    "print(str.lower())"
   ]
  },
  {
   "cell_type": "code",
   "execution_count": 99,
   "id": "1ab25ec5",
   "metadata": {},
   "outputs": [
    {
     "name": "stdout",
     "output_type": "stream",
     "text": [
      "Jello,world\n"
     ]
    }
   ],
   "source": [
    "str = \"Hello,world\"\n",
    "print(str.replace(\"H\",\"J\"))"
   ]
  },
  {
   "cell_type": "code",
   "execution_count": 100,
   "id": "df58d1f7",
   "metadata": {},
   "outputs": [
    {
     "name": "stdout",
     "output_type": "stream",
     "text": [
      "Hellq,wqrld\n"
     ]
    }
   ],
   "source": [
    "str = \"Hello,world\"\n",
    "print(str.replace(\"o\",\"q\"))"
   ]
  },
  {
   "cell_type": "code",
   "execution_count": 101,
   "id": "36347eaf",
   "metadata": {},
   "outputs": [
    {
     "name": "stdout",
     "output_type": "stream",
     "text": [
      "helloworld\n"
     ]
    }
   ],
   "source": [
    "a = \"hello\"\n",
    "b = \"world\"\n",
    "c = a + b\n",
    "print(c)"
   ]
  },
  {
   "cell_type": "code",
   "execution_count": 151,
   "id": "3282183c",
   "metadata": {},
   "outputs": [
    {
     "name": "stdout",
     "output_type": "stream",
     "text": [
      "helloworld\n"
     ]
    }
   ],
   "source": [
    "valueFirst = \"hello\"\n",
    "value_second = \"world\"\n",
    "SumOfTwoValue = valueFirst + value_second\n",
    "print(SumOfTwoValue)"
   ]
  },
  {
   "cell_type": "code",
   "execution_count": 109,
   "id": "bcd90839",
   "metadata": {},
   "outputs": [
    {
     "name": "stdout",
     "output_type": "stream",
     "text": [
      "x + y = 19\n",
      "x - y = 11\n",
      "x * y = 60\n",
      "x / y = 3.75\n",
      "x // y = 3\n",
      "x ** y = 50625\n"
     ]
    }
   ],
   "source": [
    "#Arithmetic operator\n",
    "x = 15\n",
    "y = 4\n",
    "\n",
    "print('x + y =',x+y)\n",
    "\n",
    "print('x - y =',x-y)\n",
    "\n",
    "print('x * y =',x*y)\n",
    "\n",
    "print('x / y =',x/y)\n",
    "\n",
    "print('x // y =',x//y)\n",
    "\n",
    "print('x ** y =',x**y)"
   ]
  },
  {
   "cell_type": "code",
   "execution_count": 4,
   "id": "3aa78efc",
   "metadata": {},
   "outputs": [
    {
     "name": "stdout",
     "output_type": "stream",
     "text": [
      "x = 15\n",
      "x += 13\n",
      "x -= 7\n",
      "x *= 30\n",
      "x /= 3.3333333333333335\n",
      "x %= 1\n",
      "x //= 2\n",
      "x **= 1000\n",
      "x &= 0\n",
      "x |= 11\n",
      "x >>= 1\n",
      "x <<= 40\n",
      "x ^= 2\n"
     ]
    }
   ],
   "source": [
    "#Assignment operators\n",
    "x = 15\n",
    "\n",
    "print('x =',x)\n",
    "\n",
    "x=10\n",
    "x += 3\n",
    "print('x +=',x)\n",
    "\n",
    "x=10\n",
    "x -= 3\n",
    "print('x -=',x)\n",
    "\n",
    "x=10\n",
    "x *= 3\n",
    "print('x *=',x)\n",
    "\n",
    "x=10\n",
    "x /= 3\n",
    "print('x /=',x)\n",
    "\n",
    "x=10\n",
    "x %= 3\n",
    "print('x %=',x)\n",
    "\n",
    "x=10\n",
    "x //= 5\n",
    "print('x //=',x)\n",
    "\n",
    "x=10\n",
    "x **= 3\n",
    "print('x **=',x)\n",
    "\n",
    "x=1\n",
    "x &= 8\n",
    "print('x &=',x)\n",
    "\n",
    "x=10\n",
    "x |= 3\n",
    "print('x |=',x)\n",
    "\n",
    "x=10\n",
    "x >>= 3\n",
    "print('x >>=',x)\n",
    "\n",
    "x=5\n",
    "x <<= 3\n",
    "print('x <<=',x)\n",
    "\n",
    "x=0\n",
    "x ^= 2\n",
    "print('x ^=',x)"
   ]
  },
  {
   "cell_type": "code",
   "execution_count": 24,
   "id": "fbe4e452",
   "metadata": {},
   "outputs": [
    {
     "name": "stdout",
     "output_type": "stream",
     "text": [
      "14\n"
     ]
    }
   ],
   "source": [
    " z= 6^8\n",
    "print(z)"
   ]
  },
  {
   "cell_type": "code",
   "execution_count": 19,
   "id": "1be119f4",
   "metadata": {},
   "outputs": [
    {
     "name": "stdout",
     "output_type": "stream",
     "text": [
      "x == y is False\n",
      "x != y is True\n",
      "x > y is False\n",
      "x < y is True\n",
      "x >= y is False\n",
      "x <= y is True\n"
     ]
    }
   ],
   "source": [
    "#Comparison operators\n",
    "x = 10\n",
    "y = 12\n",
    "\n",
    "print('x == y is',x==y)\n",
    "\n",
    "print('x != y is',x!=y)\n",
    "\n",
    "print('x > y is',x>y)\n",
    "\n",
    "print('x < y is',x<y)\n",
    "\n",
    "print('x >= y is',x>=y)\n",
    "\n",
    "print('x <= y is',x<=y)"
   ]
  },
  {
   "cell_type": "code",
   "execution_count": 138,
   "id": "78d2e246",
   "metadata": {},
   "outputs": [
    {
     "name": "stdout",
     "output_type": "stream",
     "text": [
      "x and y is False\n",
      "x and x is True\n",
      "x or y is True\n",
      "x or x is True\n",
      "not x is False\n",
      "not x is True\n"
     ]
    }
   ],
   "source": [
    "#Logical operators\n",
    "x = True\n",
    "y = False\n",
    "\n",
    "print('x and y is',x and y)\n",
    "print('x and x is',x and x)\n",
    "\n",
    "print('x or y is',x or y)\n",
    "print('x or x is',x or x)\n",
    "\n",
    "print('not x is',not x)\n",
    "print('not x is',not y)"
   ]
  },
  {
   "cell_type": "code",
   "execution_count": 141,
   "id": "2833b012",
   "metadata": {},
   "outputs": [
    {
     "name": "stdout",
     "output_type": "stream",
     "text": [
      "True\n",
      "False\n",
      "True\n",
      "False\n"
     ]
    }
   ],
   "source": [
    "#Identity operators\n",
    "x1 = 5\n",
    "y1 = 5\n",
    "x2 = 'Hello'\n",
    "y2 = 'Hello'\n",
    "x3 = [1,2,3]\n",
    "y3 = [1,2,3]\n",
    "\n",
    "print(x1 is y1)\n",
    "\n",
    "print(x1 is not y1)\n",
    "\n",
    "print(x2 is y2)\n",
    "\n",
    "print(x3 is y3)"
   ]
  },
  {
   "cell_type": "code",
   "execution_count": 142,
   "id": "e39da537",
   "metadata": {},
   "outputs": [
    {
     "name": "stdout",
     "output_type": "stream",
     "text": [
      "True\n",
      "True\n",
      "True\n",
      "False\n"
     ]
    }
   ],
   "source": [
    "# Membership operators\n",
    "x = 'Hello world'\n",
    "y = {1:'a',2:'b'}\n",
    "\n",
    "print('H' in x)\n",
    "\n",
    "print('hello' not in x)\n",
    "\n",
    "print(1 in y)\n",
    "\n",
    "print('a' in y)"
   ]
  },
  {
   "cell_type": "code",
   "execution_count": 150,
   "id": "37d634b4",
   "metadata": {},
   "outputs": [
    {
     "name": "stdout",
     "output_type": "stream",
     "text": [
      "x & y: 0\n",
      "x | y: 14\n",
      "x ^ y: 14\n",
      "~x: -11\n",
      "x << y: 0\n",
      "x << y: 160\n"
     ]
    }
   ],
   "source": [
    "#Bitwise operators\n",
    "x= 10\n",
    "y= 4\n",
    "\n",
    "print('x & y:',x & y)\n",
    "print('x | y:',x | y)\n",
    "print('x ^ y:',x ^ y)\n",
    "print('~x:',~x)\n",
    "print('x << y:',x >> y)\n",
    "print('x << y:',x << y)"
   ]
  },
  {
   "cell_type": "code",
   "execution_count": null,
   "id": "f954341a",
   "metadata": {},
   "outputs": [],
   "source": [
    "##Day3 python traning"
   ]
  },
  {
   "cell_type": "code",
   "execution_count": 2,
   "id": "9d65638a",
   "metadata": {},
   "outputs": [
    {
     "name": "stdout",
     "output_type": "stream",
     "text": [
      "b is greater than a\n"
     ]
    }
   ],
   "source": [
    "a = 33\n",
    "b = 35\n",
    "if b>a:\n",
    "    print(\"b is greater than a\")"
   ]
  },
  {
   "cell_type": "code",
   "execution_count": 3,
   "id": "17a5e85b",
   "metadata": {},
   "outputs": [
    {
     "name": "stdout",
     "output_type": "stream",
     "text": [
      "a and b are eqaul\n"
     ]
    }
   ],
   "source": [
    "a = 33\n",
    "b = 33\n",
    "if b>a:\n",
    "    print(\"b is greater than a\")\n",
    "elif a==b:\n",
    "    print(\"a and b are eqaul\")"
   ]
  },
  {
   "cell_type": "code",
   "execution_count": 4,
   "id": "087c9478",
   "metadata": {},
   "outputs": [
    {
     "name": "stdout",
     "output_type": "stream",
     "text": [
      "a is greater thab b\n"
     ]
    }
   ],
   "source": [
    "a = 200\n",
    "b = 33\n",
    "if b>a:\n",
    "    print(\"b is greater than a\")\n",
    "elif a==b:\n",
    "    print(\"a and b are eqaul\")\n",
    "else:\n",
    "    print(\"a is greater thab b\")"
   ]
  },
  {
   "cell_type": "code",
   "execution_count": 6,
   "id": "9eab9283",
   "metadata": {},
   "outputs": [
    {
     "name": "stdout",
     "output_type": "stream",
     "text": [
      "Above ten\n",
      "also above 20\n"
     ]
    }
   ],
   "source": [
    "x = 41\n",
    "if x>10:\n",
    "    print(\"Above ten\")\n",
    "    if x>20:\n",
    "        print(\"also above 20\")\n",
    "    else:\n",
    "        print(\"but not above 20\")"
   ]
  },
  {
   "cell_type": "code",
   "execution_count": 7,
   "id": "b742f51d",
   "metadata": {},
   "outputs": [
    {
     "name": "stdout",
     "output_type": "stream",
     "text": [
      "red apple\n",
      "red banana\n",
      "red graps\n",
      "yellow apple\n",
      "yellow banana\n",
      "yellow graps\n",
      "green apple\n",
      "green banana\n",
      "green graps\n"
     ]
    }
   ],
   "source": [
    "color = [\"red\",\"yellow\",\"green\"]\n",
    "fruits = [\"apple\",\"banana\",\"graps\"]\n",
    "for x in color:\n",
    "    for y in fruits:\n",
    "        print(x,y)"
   ]
  },
  {
   "cell_type": "code",
   "execution_count": 9,
   "id": "640a21c2",
   "metadata": {},
   "outputs": [
    {
     "name": "stdout",
     "output_type": "stream",
     "text": [
      "Hello world\n"
     ]
    }
   ],
   "source": [
    "def myfunct():\n",
    "    print(\"Hello world\")\n",
    "    \n",
    "myfunct()"
   ]
  },
  {
   "cell_type": "code",
   "execution_count": 10,
   "id": "8fd31758",
   "metadata": {},
   "outputs": [
    {
     "data": {
      "text/plain": [
       "'C:\\\\Users\\\\ashok_000\\\\Untitled Folder'"
      ]
     },
     "execution_count": 10,
     "metadata": {},
     "output_type": "execute_result"
    }
   ],
   "source": [
    "pwd"
   ]
  },
  {
   "cell_type": "code",
   "execution_count": 24,
   "id": "52e813dd",
   "metadata": {},
   "outputs": [],
   "source": [
    "import csv"
   ]
  },
  {
   "cell_type": "code",
   "execution_count": 25,
   "id": "ac013039",
   "metadata": {},
   "outputs": [],
   "source": [
    "data = open('example.csv')"
   ]
  },
  {
   "cell_type": "code",
   "execution_count": 26,
   "id": "9e324ece",
   "metadata": {},
   "outputs": [
    {
     "data": {
      "text/plain": [
       "<_io.TextIOWrapper name='example.csv' mode='r' encoding='cp1252'>"
      ]
     },
     "execution_count": 26,
     "metadata": {},
     "output_type": "execute_result"
    }
   ],
   "source": [
    "data"
   ]
  },
  {
   "cell_type": "code",
   "execution_count": 27,
   "id": "a5761391",
   "metadata": {},
   "outputs": [],
   "source": [
    "csv_data = csv.reader(data)"
   ]
  },
  {
   "cell_type": "code",
   "execution_count": 28,
   "id": "7c570966",
   "metadata": {},
   "outputs": [],
   "source": [
    "data = open('example.csv',encoding=\"utf-8\")\n",
    "csv_data = csv.reader(data)\n",
    "data_lines = list(csv_data)"
   ]
  },
  {
   "cell_type": "code",
   "execution_count": 30,
   "id": "59e0db9a",
   "metadata": {},
   "outputs": [
    {
     "data": {
      "text/plain": [
       "[['id', 'first_name', 'last_name', 'email', 'gender', 'ip_address', 'city'],\n",
       " ['1',\n",
       "  'Joseph',\n",
       "  'Zaniolini',\n",
       "  'jzaniolini0@simplemachines.org',\n",
       "  'Male',\n",
       "  '163.168.68.132',\n",
       "  'Pedro Leopoldo'],\n",
       " ['2',\n",
       "  'Freida',\n",
       "  'Drillingcourt',\n",
       "  'fdrillingcourt1@umich.edu',\n",
       "  'Female',\n",
       "  '97.212.102.79',\n",
       "  'Buri']]"
      ]
     },
     "execution_count": 30,
     "metadata": {},
     "output_type": "execute_result"
    }
   ],
   "source": [
    "# Looks like it worked!\n",
    "data_lines[:3]"
   ]
  },
  {
   "cell_type": "code",
   "execution_count": 31,
   "id": "1c4176d9",
   "metadata": {},
   "outputs": [
    {
     "name": "stdout",
     "output_type": "stream",
     "text": [
      "['id', 'first_name', 'last_name', 'email', 'gender', 'ip_address', 'city']\n",
      "['1', 'Joseph', 'Zaniolini', 'jzaniolini0@simplemachines.org', 'Male', '163.168.68.132', 'Pedro Leopoldo']\n",
      "['2', 'Freida', 'Drillingcourt', 'fdrillingcourt1@umich.edu', 'Female', '97.212.102.79', 'Buri']\n",
      "['3', 'Nanni', 'Herity', 'nherity2@statcounter.com', 'Female', '145.151.178.98', 'Claver']\n",
      "['4', 'Orazio', 'Frayling', 'ofrayling3@economist.com', 'Male', '25.199.143.143', 'Kungur']\n"
     ]
    }
   ],
   "source": [
    "for line in data_lines[:5]:\n",
    "    print(line)"
   ]
  },
  {
   "cell_type": "code",
   "execution_count": 32,
   "id": "3bf62be0",
   "metadata": {},
   "outputs": [
    {
     "data": {
      "text/plain": [
       "1001"
      ]
     },
     "execution_count": 32,
     "metadata": {},
     "output_type": "execute_result"
    }
   ],
   "source": [
    "len(data_lines)"
   ]
  },
  {
   "cell_type": "code",
   "execution_count": 34,
   "id": "6c52cc50",
   "metadata": {},
   "outputs": [
    {
     "name": "stdout",
     "output_type": "stream",
     "text": [
      "['jzaniolini0@simplemachines.org']\n",
      "['jzaniolini0@simplemachines.org', 'fdrillingcourt1@umich.edu']\n",
      "['jzaniolini0@simplemachines.org', 'fdrillingcourt1@umich.edu', 'nherity2@statcounter.com']\n",
      "['jzaniolini0@simplemachines.org', 'fdrillingcourt1@umich.edu', 'nherity2@statcounter.com', 'ofrayling3@economist.com']\n",
      "['jzaniolini0@simplemachines.org', 'fdrillingcourt1@umich.edu', 'nherity2@statcounter.com', 'ofrayling3@economist.com', 'jmurrison4@cbslocal.com']\n",
      "['jzaniolini0@simplemachines.org', 'fdrillingcourt1@umich.edu', 'nherity2@statcounter.com', 'ofrayling3@economist.com', 'jmurrison4@cbslocal.com', 'lgamet5@list-manage.com']\n",
      "['jzaniolini0@simplemachines.org', 'fdrillingcourt1@umich.edu', 'nherity2@statcounter.com', 'ofrayling3@economist.com', 'jmurrison4@cbslocal.com', 'lgamet5@list-manage.com', 'dhowatt6@amazon.com']\n",
      "['jzaniolini0@simplemachines.org', 'fdrillingcourt1@umich.edu', 'nherity2@statcounter.com', 'ofrayling3@economist.com', 'jmurrison4@cbslocal.com', 'lgamet5@list-manage.com', 'dhowatt6@amazon.com', 'kherion7@amazon.com']\n",
      "['jzaniolini0@simplemachines.org', 'fdrillingcourt1@umich.edu', 'nherity2@statcounter.com', 'ofrayling3@economist.com', 'jmurrison4@cbslocal.com', 'lgamet5@list-manage.com', 'dhowatt6@amazon.com', 'kherion7@amazon.com', 'chedworth8@china.com.cn']\n",
      "['jzaniolini0@simplemachines.org', 'fdrillingcourt1@umich.edu', 'nherity2@statcounter.com', 'ofrayling3@economist.com', 'jmurrison4@cbslocal.com', 'lgamet5@list-manage.com', 'dhowatt6@amazon.com', 'kherion7@amazon.com', 'chedworth8@china.com.cn', 'hgasquoine9@google.ru']\n",
      "['jzaniolini0@simplemachines.org', 'fdrillingcourt1@umich.edu', 'nherity2@statcounter.com', 'ofrayling3@economist.com', 'jmurrison4@cbslocal.com', 'lgamet5@list-manage.com', 'dhowatt6@amazon.com', 'kherion7@amazon.com', 'chedworth8@china.com.cn', 'hgasquoine9@google.ru', 'ftarra@shareasale.com']\n",
      "['jzaniolini0@simplemachines.org', 'fdrillingcourt1@umich.edu', 'nherity2@statcounter.com', 'ofrayling3@economist.com', 'jmurrison4@cbslocal.com', 'lgamet5@list-manage.com', 'dhowatt6@amazon.com', 'kherion7@amazon.com', 'chedworth8@china.com.cn', 'hgasquoine9@google.ru', 'ftarra@shareasale.com', 'abathb@umn.edu']\n",
      "['jzaniolini0@simplemachines.org', 'fdrillingcourt1@umich.edu', 'nherity2@statcounter.com', 'ofrayling3@economist.com', 'jmurrison4@cbslocal.com', 'lgamet5@list-manage.com', 'dhowatt6@amazon.com', 'kherion7@amazon.com', 'chedworth8@china.com.cn', 'hgasquoine9@google.ru', 'ftarra@shareasale.com', 'abathb@umn.edu', 'lchastangc@goo.gl']\n",
      "['jzaniolini0@simplemachines.org', 'fdrillingcourt1@umich.edu', 'nherity2@statcounter.com', 'ofrayling3@economist.com', 'jmurrison4@cbslocal.com', 'lgamet5@list-manage.com', 'dhowatt6@amazon.com', 'kherion7@amazon.com', 'chedworth8@china.com.cn', 'hgasquoine9@google.ru', 'ftarra@shareasale.com', 'abathb@umn.edu', 'lchastangc@goo.gl', 'cceried@yale.edu']\n"
     ]
    }
   ],
   "source": [
    "all_emails = []\n",
    "for line in data_lines[1:15]:\n",
    "    all_emails.append(line[3])\n",
    "    print(all_emails)"
   ]
  },
  {
   "cell_type": "code",
   "execution_count": 35,
   "id": "fec5e79e",
   "metadata": {},
   "outputs": [
    {
     "data": {
      "text/plain": [
       "['Joseph Zaniolini',\n",
       " 'Freida Drillingcourt',\n",
       " 'Nanni Herity',\n",
       " 'Orazio Frayling',\n",
       " 'Julianne Murrison',\n",
       " 'Lucy Gamet',\n",
       " 'Dyana Howatt',\n",
       " 'Kassey Herion',\n",
       " 'Chrissy Hedworth',\n",
       " 'Hyatt Gasquoine',\n",
       " 'Felicdad Tarr',\n",
       " 'Andrew Bath',\n",
       " 'Lucais Chastang',\n",
       " 'Car Cerie']"
      ]
     },
     "execution_count": 35,
     "metadata": {},
     "output_type": "execute_result"
    }
   ],
   "source": [
    "full_names = []\n",
    "\n",
    "for line in data_lines[1:15]:\n",
    "    full_names.append(line[1]+' '+line[2])\n",
    "full_names"
   ]
  },
  {
   "cell_type": "code",
   "execution_count": 36,
   "id": "e061faf7",
   "metadata": {},
   "outputs": [],
   "source": [
    "## Writing to CSV Files\n",
    "\n",
    "file_to_output = open('to_save_file.csv','w',newline='')"
   ]
  },
  {
   "cell_type": "code",
   "execution_count": 37,
   "id": "47df18c2",
   "metadata": {},
   "outputs": [],
   "source": [
    "csv_writer = csv.writer(file_to_output,delimiter=',')"
   ]
  },
  {
   "cell_type": "code",
   "execution_count": 38,
   "id": "36ae715c",
   "metadata": {},
   "outputs": [
    {
     "data": {
      "text/plain": [
       "7"
      ]
     },
     "execution_count": 38,
     "metadata": {},
     "output_type": "execute_result"
    }
   ],
   "source": [
    "csv_writer.writerow(['a','b','c'])"
   ]
  },
  {
   "cell_type": "code",
   "execution_count": 39,
   "id": "5d8109e0",
   "metadata": {},
   "outputs": [],
   "source": [
    "csv_writer.writerows([['1','2','3'],['4','5','6']])"
   ]
  },
  {
   "cell_type": "code",
   "execution_count": 40,
   "id": "f7e9989e",
   "metadata": {},
   "outputs": [],
   "source": [
    "file_to_output.close()"
   ]
  },
  {
   "cell_type": "code",
   "execution_count": 41,
   "id": "f5afa30e",
   "metadata": {},
   "outputs": [],
   "source": [
    "f = open('to_save_file.csv','a',newline='')"
   ]
  },
  {
   "cell_type": "code",
   "execution_count": 42,
   "id": "e8dc88b5",
   "metadata": {},
   "outputs": [],
   "source": [
    "csv_writer = csv.writer(f)"
   ]
  },
  {
   "cell_type": "code",
   "execution_count": 43,
   "id": "1b2d6dac",
   "metadata": {},
   "outputs": [
    {
     "data": {
      "text/plain": [
       "13"
      ]
     },
     "execution_count": 43,
     "metadata": {},
     "output_type": "execute_result"
    }
   ],
   "source": [
    "csv_writer.writerow(['new','new','new'])"
   ]
  },
  {
   "cell_type": "code",
   "execution_count": 44,
   "id": "69c6690c",
   "metadata": {},
   "outputs": [],
   "source": [
    "f.close()"
   ]
  },
  {
   "cell_type": "code",
   "execution_count": null,
   "id": "5164c1c6",
   "metadata": {},
   "outputs": [],
   "source": []
  }
 ],
 "metadata": {
  "kernelspec": {
   "display_name": "Python 3 (ipykernel)",
   "language": "python",
   "name": "python3"
  },
  "language_info": {
   "codemirror_mode": {
    "name": "ipython",
    "version": 3
   },
   "file_extension": ".py",
   "mimetype": "text/x-python",
   "name": "python",
   "nbconvert_exporter": "python",
   "pygments_lexer": "ipython3",
   "version": "3.9.7"
  }
 },
 "nbformat": 4,
 "nbformat_minor": 5
}
