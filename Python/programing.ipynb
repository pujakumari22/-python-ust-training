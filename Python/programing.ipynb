{
 "cells": [
  {
   "cell_type": "code",
   "execution_count": 9,
   "id": "33948659",
   "metadata": {},
   "outputs": [
    {
     "name": "stdout",
     "output_type": "stream",
     "text": [
      "Before 1 2\n",
      "After 2 1\n"
     ]
    }
   ],
   "source": [
    "###Swap 2 number\n",
    "\n",
    "x=1\n",
    "y=2\n",
    "\n",
    "print(\"Before\",x,y)\n",
    "\n",
    "x,y =y,x\n",
    "\n",
    "print(\"After\",x,y)"
   ]
  },
  {
   "cell_type": "code",
   "execution_count": null,
   "id": "05a48bd0",
   "metadata": {},
   "outputs": [],
   "source": [
    "import socket            \n",
    "s = socket.socket()         \n",
    "host = socket.gethostname() \n",
    "port = 12345                \n",
    "s.bind((host, port))        \n",
    "\n",
    "s.listen(5)                 \n",
    "while True:\n",
    "   c, addr = s.accept() \n",
    "   print('Got connection from', addr)\n",
    "   c.send('Thank you for connecting')\n",
    "   c.close()\n"
   ]
  },
  {
   "cell_type": "code",
   "execution_count": null,
   "id": "ed7f2f1c",
   "metadata": {},
   "outputs": [],
   "source": []
  }
 ],
 "metadata": {
  "kernelspec": {
   "display_name": "Python 3 (ipykernel)",
   "language": "python",
   "name": "python3"
  },
  "language_info": {
   "codemirror_mode": {
    "name": "ipython",
    "version": 3
   },
   "file_extension": ".py",
   "mimetype": "text/x-python",
   "name": "python",
   "nbconvert_exporter": "python",
   "pygments_lexer": "ipython3",
   "version": "3.9.7"
  }
 },
 "nbformat": 4,
 "nbformat_minor": 5
}
