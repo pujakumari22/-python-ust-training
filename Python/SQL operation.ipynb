{
 "cells": [
  {
   "cell_type": "code",
   "execution_count": 2,
   "id": "e472d8ea",
   "metadata": {},
   "outputs": [
    {
     "name": "stdout",
     "output_type": "stream",
     "text": [
      "Requirement already satisfied: mysql-connector-python in c:\\users\\pujas\\anaconda3\\lib\\site-packages (8.0.28)\n",
      "Requirement already satisfied: protobuf>=3.0.0 in c:\\users\\pujas\\anaconda3\\lib\\site-packages (from mysql-connector-python) (3.19.4)\n",
      "Note: you may need to restart the kernel to use updated packages.\n"
     ]
    }
   ],
   "source": [
    "pip install mysql-connector-python"
   ]
  },
  {
   "cell_type": "code",
   "execution_count": 1,
   "id": "d5cd8891",
   "metadata": {},
   "outputs": [
    {
     "name": "stdout",
     "output_type": "stream",
     "text": [
      "<mysql.connector.connection_cext.CMySQLConnection object at 0x000002A0CF3BDBB0>\n"
     ]
    }
   ],
   "source": [
    "import mysql.connector\n",
    "\n",
    "conn = mysql.connector.connect(\n",
    "    host='localhost',\n",
    "    user='root',\n",
    "    passwd= 'root'    \n",
    ")\n",
    "\n",
    "print(conn)"
   ]
  },
  {
   "cell_type": "code",
   "execution_count": 5,
   "id": "6783d77d",
   "metadata": {},
   "outputs": [
    {
     "name": "stdout",
     "output_type": "stream",
     "text": [
      "('information_schema',)\n",
      "('mysql',)\n",
      "('performance_schema',)\n",
      "('sakila',)\n",
      "('sys',)\n",
      "('world',)\n"
     ]
    }
   ],
   "source": [
    "import mysql.connector\n",
    "\n",
    "conn = mysql.connector.connect(\n",
    "    host='localhost',\n",
    "    user='root',\n",
    "    passwd= 'root'    \n",
    ")\n",
    "cur = conn.cursor()\n",
    "\n",
    "db = cur.execute(\"show databases\")\n",
    "for x in cur:\n",
    "    print(x)"
   ]
  },
  {
   "cell_type": "code",
   "execution_count": 6,
   "id": "62726f27",
   "metadata": {},
   "outputs": [],
   "source": [
    "# creating new database\n",
    "cur.execute('create database ustdb')"
   ]
  },
  {
   "cell_type": "code",
   "execution_count": 7,
   "id": "cda45702",
   "metadata": {},
   "outputs": [
    {
     "name": "stdout",
     "output_type": "stream",
     "text": [
      "('information_schema',)\n",
      "('mysql',)\n",
      "('performance_schema',)\n",
      "('sakila',)\n",
      "('sys',)\n",
      "('ustdb',)\n",
      "('world',)\n"
     ]
    }
   ],
   "source": [
    "cur = conn.cursor()\n",
    "\n",
    "db = cur.execute(\"show databases\")\n",
    "for x in cur:\n",
    "    print(x)"
   ]
  },
  {
   "cell_type": "code",
   "execution_count": 16,
   "id": "6e5f1897",
   "metadata": {},
   "outputs": [
    {
     "name": "stdout",
     "output_type": "stream",
     "text": [
      "1 record inserted!\n"
     ]
    }
   ],
   "source": [
    "import mysql.connector  \n",
    "\n",
    "#Create the connection object   \n",
    "conn = mysql.connector.connect(\n",
    "    host = \"localhost\", \n",
    "    user = \"root\",\n",
    "    passwd = \"root\",\n",
    "    database = \"ustdb\"\n",
    ")  \n",
    "\n",
    "#creating the cursor object  \n",
    "cur = conn.cursor()  \n",
    "sql = \"insert into Employee(Name, Id, salary, dept_id) values (%s, %s, %s, %s)\"  \n",
    "  \n",
    "#The row values are provided in the form of tuple   \n",
    "val = (\"Puja\", 45, 35000.00, 285) \n",
    "  \n",
    "try:  \n",
    "    #inserting the values into the table  \n",
    "    cur.execute(sql,val)  \n",
    "  \n",
    "    #commit the transaction   \n",
    "    conn.commit()  \n",
    "      \n",
    "except:  \n",
    "    conn.rollback()  \n",
    "  \n",
    "print(cur.rowcount,\"record inserted!\")  \n",
    "conn.close()"
   ]
  },
  {
   "cell_type": "code",
   "execution_count": 18,
   "id": "e7388f90",
   "metadata": {},
   "outputs": [
    {
     "name": "stdout",
     "output_type": "stream",
     "text": [
      "('Puja', 45, 35000.0, 285)\n",
      "('Sweta', 55, 35000.0, 285)\n"
     ]
    }
   ],
   "source": [
    "import mysql.connector\n",
    "\n",
    "conn = mysql.connector.connect(\n",
    "    host='localhost',\n",
    "    user='root',\n",
    "    passwd= 'root'  , \n",
    "    database ='ustdb'\n",
    ")\n",
    "\n",
    "cur = conn.cursor()\n",
    "data = ('select * from Employee')\n",
    "\n",
    "cur.execute(data)\n",
    "query = cur.fetchall()\n",
    "for x in query:\n",
    "    print(x)"
   ]
  },
  {
   "cell_type": "code",
   "execution_count": null,
   "id": "6e59d788",
   "metadata": {},
   "outputs": [],
   "source": []
  }
 ],
 "metadata": {
  "kernelspec": {
   "display_name": "Python 3 (ipykernel)",
   "language": "python",
   "name": "python3"
  },
  "language_info": {
   "codemirror_mode": {
    "name": "ipython",
    "version": 3
   },
   "file_extension": ".py",
   "mimetype": "text/x-python",
   "name": "python",
   "nbconvert_exporter": "python",
   "pygments_lexer": "ipython3",
   "version": "3.9.7"
  }
 },
 "nbformat": 4,
 "nbformat_minor": 5
}
