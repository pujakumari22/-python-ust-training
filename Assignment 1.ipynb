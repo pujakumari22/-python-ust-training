{
 "cells": [
  {
   "cell_type": "code",
   "execution_count": 9,
   "id": "bac11ce9",
   "metadata": {},
   "outputs": [
    {
     "name": "stdout",
     "output_type": "stream",
     "text": [
      "how many digits after decimal you want to limit20\n",
      "20\n",
      "3.141592653589793\n"
     ]
    }
   ],
   "source": [
    "from numpy import *\n",
    "\n",
    "n = int(input('how many digits after decimal you want to limit'))\n",
    "\n",
    "print(n)\n",
    "\n",
    "# print('{pi:0.f}'.format(pi=pi))\n",
    "print('{:}'.format(pi))  "
   ]
  },
  {
   "cell_type": "code",
   "execution_count": 5,
   "id": "bae157d9",
   "metadata": {},
   "outputs": [
    {
     "name": "stdout",
     "output_type": "stream",
     "text": [
      "Enter the number of decimal places: 20\n",
      "3.141592653589793\n"
     ]
    }
   ],
   "source": [
    "from math import pi\n",
    "i = int(input(\"Enter the number of decimal places: \"))\n",
    "h = 0\n",
    "b = list()\n",
    "for x in str(pi):\n",
    "    h += 1\n",
    "    b.append(x)\n",
    "    if h == i+2:\n",
    "        break\n",
    "\n",
    "h = ''.join(b)\n",
    "print(h)"
   ]
  },
  {
   "cell_type": "code",
   "execution_count": 2,
   "id": "29703920",
   "metadata": {},
   "outputs": [
    {
     "name": "stdout",
     "output_type": "stream",
     "text": [
      "Enter the number: -5\n",
      "0\n",
      "1\n"
     ]
    }
   ],
   "source": [
    "# Fibonacci \n",
    "def fib(num):\n",
    "    a = 0\n",
    "    b = 1\n",
    "    if num == 1:\n",
    "        print(a)\n",
    "    else:\n",
    "        print(a)\n",
    "        print(b)\n",
    "        for i in range(2,num):\n",
    "            c = a + b\n",
    "            a = b\n",
    "            b = c\n",
    "            print(c)\n",
    "num = int(input(\"Enter the number: \"))\n",
    "fib(num)"
   ]
  },
  {
   "cell_type": "code",
   "execution_count": 21,
   "id": "9bcc609f",
   "metadata": {},
   "outputs": [
    {
     "name": "stdout",
     "output_type": "stream",
     "text": [
      " Please Enter any Number: 50\n",
      " 2 is a Prime Factor of a Given Number 50\n",
      " 5 is a Prime Factor of a Given Number 50\n"
     ]
    }
   ],
   "source": [
    "#Prime Factors of a Number\n",
    " \n",
    "Number = int(input(\" Please Enter any Number: \"))\n",
    "\n",
    "for i in range(2, Number + 1):\n",
    "    if(Number % i == 0):\n",
    "        isprime = 1\n",
    "        for j in range(2, (i //2 + 1)):\n",
    "            if(i % j == 0):\n",
    "                isprime = 0\n",
    "                break\n",
    "            \n",
    "        if (isprime == 1):\n",
    "            print(\" %d is a Prime Factor of a Given Number %d\" %(i, Number))"
   ]
  },
  {
   "cell_type": "code",
   "execution_count": 5,
   "id": "01ff261b",
   "metadata": {},
   "outputs": [
    {
     "name": "stdout",
     "output_type": "stream",
     "text": [
      " Please Enter any Number: 12\n",
      "[12, 6.0, 3.0, 10.0, 5.0, 16.0, 8.0, 4.0, 2.0, 1.0]\n"
     ]
    }
   ],
   "source": [
    "def collatz_sequence(x):\n",
    "    num_seq = [x]\n",
    "    if x < 1:\n",
    "       return []\n",
    "    while x > 1:\n",
    "       if x % 2 == 0:\n",
    "         x = x / 2\n",
    "       else:\n",
    "         x = 3 * x + 1\n",
    "    # Added line\n",
    "       num_seq.append(x)    \n",
    "    return num_seq\n",
    "\n",
    "num = int(input(\" Please Enter any Number: \"))\n",
    "print(collatz_sequence(num))"
   ]
  },
  {
   "cell_type": "code",
   "execution_count": null,
   "id": "528fe391",
   "metadata": {},
   "outputs": [],
   "source": []
  }
 ],
 "metadata": {
  "kernelspec": {
   "display_name": "Python 3 (ipykernel)",
   "language": "python",
   "name": "python3"
  },
  "language_info": {
   "codemirror_mode": {
    "name": "ipython",
    "version": 3
   },
   "file_extension": ".py",
   "mimetype": "text/x-python",
   "name": "python",
   "nbconvert_exporter": "python",
   "pygments_lexer": "ipython3",
   "version": "3.9.7"
  }
 },
 "nbformat": 4,
 "nbformat_minor": 5
}
